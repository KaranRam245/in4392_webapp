{
 "cells": [
  {
   "cell_type": "markdown",
   "metadata": {},
   "source": [
    "# Conv1D implementation of Toxic Comments"
   ]
  },
  {
   "cell_type": "code",
   "execution_count": 1,
   "metadata": {},
   "outputs": [
    {
     "name": "stderr",
     "output_type": "stream",
     "text": [
      "/usr/lib/python3/dist-packages/h5py/__init__.py:36: FutureWarning: Conversion of the second argument of issubdtype from `float` to `np.floating` is deprecated. In future, it will be treated as `np.float64 == np.dtype(float).type`.\n",
      "  from ._conv import register_converters as _register_converters\n"
     ]
    },
    {
     "name": "stdout",
     "output_type": "stream",
     "text": [
      "Limited tf.compat.v2.summary API due to missing TensorBoard installation\n",
      "Limited tf.summary API due to missing TensorBoard installation\n"
     ]
    }
   ],
   "source": [
    "import os\n",
    "import numpy as np\n",
    "import pandas as pd\n",
    "import matplotlib.pyplot as plt\n",
    "from tensorflow.keras.preprocessing import text,sequence\n",
    "from tensorflow.keras.layers import Conv1D,MaxPool1D,GlobalMaxPool1D,Dense,Input,Embedding\n",
    "from tensorflow.keras.models import Model\n",
    "from sklearn.metrics import roc_auc_score\n",
    "%matplotlib inline"
   ]
  },
  {
   "cell_type": "markdown",
   "metadata": {},
   "source": [
    "## Model configuration"
   ]
  },
  {
   "cell_type": "code",
   "execution_count": 51,
   "metadata": {},
   "outputs": [],
   "source": [
    "MAX_SEQUENCE_LENGTH = 100\n",
    "MAX_VOCAB_SIZE = 20000\n",
    "EMBEDDING_DIM = 100\n",
    "VALIDATION_SPLIT = 0.2\n",
    "BATCH_SIZE = 128\n",
    "EPOCHS = 1"
   ]
  },
  {
   "cell_type": "markdown",
   "metadata": {},
   "source": [
    "## Loading pre-trained embeddings\n",
    "For this model pre-trained embeddings are retrieved from Glove."
   ]
  },
  {
   "cell_type": "code",
   "execution_count": 3,
   "metadata": {},
   "outputs": [],
   "source": [
    "glove_dir=os.curdir+'/Glove Embeddings/'"
   ]
  },
  {
   "cell_type": "markdown",
   "metadata": {},
   "source": [
    "### Creates a dictionary with all words and corresponding embedding"
   ]
  },
  {
   "cell_type": "code",
   "execution_count": 4,
   "metadata": {},
   "outputs": [
    {
     "name": "stdout",
     "output_type": "stream",
     "text": [
      "Loading word vectors...\n",
      "Found 400000 word vectors.\n"
     ]
    }
   ],
   "source": [
    "print('Loading word vectors...')\n",
    "word2vec = {}\n",
    "with open(os.path.join(glove_dir+'glove.6B.%sd.txt' % EMBEDDING_DIM)) as f:\n",
    "  for line in f:\n",
    "    values = line.split()\n",
    "    word = values[0]\n",
    "    vec = np.asarray(values[1:], dtype='float32')\n",
    "    word2vec[word] = vec\n",
    "print('Found %s word vectors.' % len(word2vec))"
   ]
  },
  {
   "cell_type": "markdown",
   "metadata": {},
   "source": [
    "### Get comments from .csv file"
   ]
  },
  {
   "cell_type": "code",
   "execution_count": 5,
   "metadata": {},
   "outputs": [
    {
     "name": "stdout",
     "output_type": "stream",
     "text": [
      "Loading in comments...\n"
     ]
    }
   ],
   "source": [
    "print('Loading in comments...')\n",
    "\n",
    "train = pd.read_csv(os.curdir+\"/train.csv\")\n",
    "# train.describe()\n",
    "# train.info()\n",
    "sentences = train[\"comment_text\"]\n",
    "possible_labels = [\"toxic\", \"severe_toxic\", \"obscene\", \"threat\", \"insult\", \"identity_hate\"]\n",
    "targets = train[possible_labels].values"
   ]
  },
  {
   "cell_type": "markdown",
   "metadata": {},
   "source": [
    "## Step 1: Tokenization"
   ]
  },
  {
   "cell_type": "code",
   "execution_count": 6,
   "metadata": {},
   "outputs": [
    {
     "name": "stdout",
     "output_type": "stream",
     "text": [
      "max sequence length: 1400\n",
      "min sequence length: 0\n",
      "median sequence length: 35\n"
     ]
    }
   ],
   "source": [
    "tokenizer = text.Tokenizer(num_words=MAX_VOCAB_SIZE)\n",
    "tokenizer.fit_on_texts(sentences)\n",
    "sequences = tokenizer.texts_to_sequences(sentences)\n",
    "\n",
    "print(\"max sequence length:\", max(len(s) for s in sequences))\n",
    "print(\"min sequence length:\", min(len(s) for s in sequences))\n",
    "s = sorted(len(s) for s in sequences)\n",
    "print(\"median sequence length:\", s[len(s) // 2])"
   ]
  },
  {
   "cell_type": "markdown",
   "metadata": {},
   "source": [
    "### Create a dictionary with word index mapping"
   ]
  },
  {
   "cell_type": "code",
   "execution_count": 7,
   "metadata": {},
   "outputs": [
    {
     "name": "stdout",
     "output_type": "stream",
     "text": [
      "Found 210337 unique tokens.\n"
     ]
    }
   ],
   "source": [
    "word2idx = tokenizer.word_index\n",
    "print('Found %s unique tokens.' % len(word2idx))"
   ]
  },
  {
   "cell_type": "markdown",
   "metadata": {},
   "source": [
    "### Pad tokens so all have the same length"
   ]
  },
  {
   "cell_type": "code",
   "execution_count": 8,
   "metadata": {},
   "outputs": [],
   "source": [
    "data=sequence.pad_sequences(sequences,maxlen=MAX_SEQUENCE_LENGTH)"
   ]
  },
  {
   "cell_type": "markdown",
   "metadata": {},
   "source": [
    "## Step 2: Association\n",
    "Set-up embedding matrix with pre-trained Glove word vectors"
   ]
  },
  {
   "cell_type": "code",
   "execution_count": 9,
   "metadata": {},
   "outputs": [
    {
     "name": "stdout",
     "output_type": "stream",
     "text": [
      "Filling pre-trained embeddings...\n"
     ]
    }
   ],
   "source": [
    "print('Filling pre-trained embeddings...')\n",
    "num_words = min(MAX_VOCAB_SIZE, len(word2idx) + 1)\n",
    "embedding_matrix = np.zeros((num_words, EMBEDDING_DIM))\n",
    "for word, i in word2idx.items():\n",
    "  if i < MAX_VOCAB_SIZE:\n",
    "    embedding_vector = word2vec.get(word)\n",
    "    if embedding_vector is not None:\n",
    "      # words not found in embedding index will be all zeros.\n",
    "      embedding_matrix[i] = embedding_vector\n"
   ]
  },
  {
   "cell_type": "markdown",
   "metadata": {},
   "source": [
    "## Build Model"
   ]
  },
  {
   "cell_type": "markdown",
   "metadata": {},
   "source": [
    "### Set-up pre-trained embedding layer"
   ]
  },
  {
   "cell_type": "code",
   "execution_count": 74,
   "metadata": {},
   "outputs": [],
   "source": [
    "embedding_layer=Embedding(num_words,EMBEDDING_DIM,trainable=True,weights=[embedding_matrix],embeddings_initializer=None)"
   ]
  },
  {
   "cell_type": "code",
   "execution_count": 75,
   "metadata": {},
   "outputs": [
    {
     "data": {
      "text/plain": [
       "{'name': 'embedding_6',\n",
       " 'trainable': True,\n",
       " 'batch_input_shape': (None, None),\n",
       " 'dtype': 'float32',\n",
       " 'input_dim': 20000,\n",
       " 'output_dim': 100,\n",
       " 'embeddings_initializer': None,\n",
       " 'embeddings_regularizer': None,\n",
       " 'activity_regularizer': None,\n",
       " 'embeddings_constraint': None,\n",
       " 'mask_zero': False,\n",
       " 'input_length': None}"
      ]
     },
     "execution_count": 75,
     "metadata": {},
     "output_type": "execute_result"
    }
   ],
   "source": [
    "embedding_layer.get_config()"
   ]
  },
  {
   "cell_type": "code",
   "execution_count": 76,
   "metadata": {},
   "outputs": [
    {
     "name": "stdout",
     "output_type": "stream",
     "text": [
      "Build Model...\n",
      "Model: \"model_35\"\n",
      "_________________________________________________________________\n",
      "Layer (type)                 Output Shape              Param #   \n",
      "=================================================================\n",
      "input_27 (InputLayer)        [(None, 100)]             0         \n",
      "_________________________________________________________________\n",
      "embedding_6 (Embedding)      (None, 100, 100)          2000000   \n",
      "_________________________________________________________________\n",
      "conv1d_69 (Conv1D)           (None, 98, 128)           38528     \n",
      "_________________________________________________________________\n",
      "max_pooling1d_46 (MaxPooling (None, 32, 128)           0         \n",
      "_________________________________________________________________\n",
      "conv1d_70 (Conv1D)           (None, 30, 128)           49280     \n",
      "_________________________________________________________________\n",
      "max_pooling1d_47 (MaxPooling (None, 10, 128)           0         \n",
      "_________________________________________________________________\n",
      "conv1d_71 (Conv1D)           (None, 8, 128)            49280     \n",
      "_________________________________________________________________\n",
      "global_max_pooling1d_23 (Glo (None, 128)               0         \n",
      "_________________________________________________________________\n",
      "dense_46 (Dense)             (None, 128)               16512     \n",
      "_________________________________________________________________\n",
      "dense_47 (Dense)             (None, 6)                 774       \n",
      "=================================================================\n",
      "Total params: 2,154,374\n",
      "Trainable params: 2,154,374\n",
      "Non-trainable params: 0\n",
      "_________________________________________________________________\n"
     ]
    },
    {
     "data": {
      "text/plain": [
       "array([-0.01145134,  0.01235417, -0.00713845, -0.00110613, -0.00587892,\n",
       "       -0.00942557, -0.00383783,  0.00701621, -0.01136712, -0.01111013,\n",
       "        0.00367836,  0.0060691 ,  0.00124634,  0.01162926,  0.01354614,\n",
       "       -0.00705278,  0.01296348, -0.01082747,  0.01720184, -0.01669049,\n",
       "       -0.00774464, -0.00704234, -0.00352526,  0.00681817, -0.00540088,\n",
       "       -0.00705027,  0.00788116, -0.00352252, -0.01613357, -0.00704914,\n",
       "       -0.01474151,  0.00661024,  0.00238227, -0.01246695, -0.01319456,\n",
       "       -0.00368215, -0.00925394, -0.01436717,  0.00313533,  0.00233355,\n",
       "        0.00873325,  0.00744162, -0.00776358, -0.00525398, -0.01326942,\n",
       "       -0.00882214,  0.0138756 , -0.00941019, -0.01394831, -0.01473474,\n",
       "        0.01324001,  0.01517478,  0.0119536 ,  0.01700238, -0.00158481,\n",
       "       -0.00771952, -0.01348577, -0.00041973,  0.00759395,  0.01617836,\n",
       "       -0.00645523, -0.00202959, -0.01416039, -0.00305121,  0.00698208,\n",
       "       -0.00842063,  0.00060712,  0.00819907,  0.01629282,  0.01529493,\n",
       "        0.01462678, -0.00286662, -0.01504815, -0.01292694, -0.00042074,\n",
       "        0.00924402,  0.0133881 , -0.00260402, -0.01188957, -0.01374582,\n",
       "       -0.00685842,  0.01505622,  0.00511817,  0.01242456, -0.00393715,\n",
       "       -0.01235909,  0.01271987,  0.01246398,  0.01249413,  0.00343358,\n",
       "        0.01623177,  0.01615744,  0.00216729,  0.01341798,  0.01451152,\n",
       "       -0.01006141, -0.00795691, -0.0077505 ,  0.00220785,  0.01636955],\n",
       "      dtype=float32)"
      ]
     },
     "execution_count": 76,
     "metadata": {},
     "output_type": "execute_result"
    }
   ],
   "source": [
    "print('Build Model...')\n",
    "input_=Input(shape=(MAX_SEQUENCE_LENGTH,))\n",
    "x=embedding_layer(input_)\n",
    "x=Conv1D(128,3,activation='relu')(x)\n",
    "x=MaxPool1D(3)(x)\n",
    "x=Conv1D(128,3,activation='relu')(x)\n",
    "x=MaxPool1D(3)(x)\n",
    "x=Conv1D(128,3,activation='relu')(x)\n",
    "x=GlobalMaxPool1D()(x)\n",
    "x=Dense(128,activation='relu')(x)\n",
    "output=Dense(len(possible_labels),activation='sigmoid')(x)\n",
    "model=Model(input_,output)\n",
    "model.summary()\n",
    "model.layers[1].get_weights()[0][0]"
   ]
  },
  {
   "cell_type": "code",
   "execution_count": 66,
   "metadata": {},
   "outputs": [],
   "source": [
    "model.compile(optimizer='adam',loss='binary_crossentropy',metrics=['acc'])"
   ]
  },
  {
   "cell_type": "code",
   "execution_count": 67,
   "metadata": {},
   "outputs": [
    {
     "name": "stdout",
     "output_type": "stream",
     "text": [
      "Train on 127656 samples, validate on 31915 samples\n",
      "127656/127656 [==============================] - 101s 795us/sample - loss: 0.0854 - acc: 0.9740 - val_loss: 0.0642 - val_acc: 0.9782\n"
     ]
    }
   ],
   "source": [
    "history=model.fit(data,targets,batch_size=BATCH_SIZE,epochs=EPOCHS,validation_split=VALIDATION_SPLIT)"
   ]
  },
  {
   "cell_type": "code",
   "execution_count": 69,
   "metadata": {},
   "outputs": [
    {
     "name": "stdout",
     "output_type": "stream",
     "text": [
      "0\n",
      "[ 0.01060211 -0.01161762 -0.00511805  0.02396164 -0.01007519  0.01847268\n",
      "  0.00961737  0.00797975  0.00647864  0.00215046 -0.00833128  0.00545689\n",
      "  0.00951052  0.02163084  0.01537829  0.02309409 -0.02444701 -0.00996886\n",
      " -0.02531204  0.00111352 -0.00252873 -0.00458206  0.01340589  0.0157339\n",
      " -0.01775133  0.00453458  0.00951737  0.0105435   0.01750541  0.01152024\n",
      "  0.00770876 -0.00472083 -0.0006267   0.00450969  0.01545251  0.00127232\n",
      " -0.01331915  0.00594866  0.00622714 -0.01312502 -0.00260323  0.00077782\n",
      "  0.00221514 -0.01251605  0.0085448  -0.00588066  0.02276019 -0.01451966\n",
      "  0.00146549 -0.00130481 -0.01588192  0.01436985  0.01984121 -0.01319628\n",
      "  0.0021439  -0.01772026 -0.0100085   0.00090577 -0.01691351  0.00641011\n",
      " -0.01921154  0.00863384  0.0090596   0.00115517  0.00039947 -0.00169625\n",
      "  0.01072351 -0.00382791 -0.01632489  0.02061623  0.01963478 -0.00812556\n",
      "  0.02513642 -0.00158214  0.00472768  0.01721553 -0.02721805  0.00431554\n",
      "  0.01379     0.02511104 -0.00446744 -0.00125549  0.00567833  0.00419056\n",
      " -0.01442001 -0.02560693  0.0175834   0.01369294  0.00134494 -0.00770626\n",
      "  0.01364335  0.00958264 -0.00055234 -0.00996598 -0.02305877  0.0299571\n",
      "  0.00259559 -0.00716367 -0.00063495  0.01026383]\n"
     ]
    },
    {
     "data": {
      "text/plain": [
       "array([0., 0., 0., 0., 0., 0., 0., 0., 0., 0., 0., 0., 0., 0., 0., 0., 0.,\n",
       "       0., 0., 0., 0., 0., 0., 0., 0., 0., 0., 0., 0., 0., 0., 0., 0., 0.,\n",
       "       0., 0., 0., 0., 0., 0., 0., 0., 0., 0., 0., 0., 0., 0., 0., 0., 0.,\n",
       "       0., 0., 0., 0., 0., 0., 0., 0., 0., 0., 0., 0., 0., 0., 0., 0., 0.,\n",
       "       0., 0., 0., 0., 0., 0., 0., 0., 0., 0., 0., 0., 0., 0., 0., 0., 0.,\n",
       "       0., 0., 0., 0., 0., 0., 0., 0., 0., 0., 0., 0., 0., 0., 0.])"
      ]
     },
     "execution_count": 69,
     "metadata": {},
     "output_type": "execute_result"
    }
   ],
   "source": [
    "modelEmb = Model(inputs = model.inputs, outputs = model.layers[1].output)\n",
    "testing = data[0]\n",
    "testing = np.expand_dims(testing, axis = 0)\n",
    "print(testing[0][0])\n",
    "print(model.layers[1].get_weights()[0][0])\n",
    "embedding_matrix[testing[0][0]]"
   ]
  },
  {
   "cell_type": "markdown",
   "metadata": {},
   "source": [
    "## Loss and accuracy plots"
   ]
  },
  {
   "cell_type": "code",
   "execution_count": 55,
   "metadata": {},
   "outputs": [
    {
     "data": {
      "image/png": "[encoded data removed]",
      "text/plain": [
       "<matplotlib.figure.Figure at 0x7f47d027f588>"
      ]
     },
     "metadata": {
      "needs_background": "light"
     },
     "output_type": "display_data"
    },
    {
     "data": {
      "text/plain": [
       "<matplotlib.legend.Legend at 0x7f47d00cfcf8>"
      ]
     },
     "execution_count": 55,
     "metadata": {},
     "output_type": "execute_result"
    },
    {
     "data": {
      "image/png": "[encoded data removed]",
      "text/plain": [
       "<matplotlib.figure.Figure at 0x7f47d01554a8>"
      ]
     },
     "metadata": {
      "needs_background": "light"
     },
     "output_type": "display_data"
    }
   ],
   "source": [
    "plt.plot(history.history['loss'], label='loss')\n",
    "plt.plot(history.history['val_loss'], label='val_loss')\n",
    "plt.legend()\n",
    "plt.show()\n",
    "\n",
    "plt.plot(history.history['acc'], label='acc')\n",
    "plt.plot(history.history['val_acc'], label='val_acc')\n",
    "plt.legend()"
   ]
  },
  {
   "cell_type": "markdown",
   "metadata": {},
   "source": [
    "## AUC ROC metric calculation"
   ]
  },
  {
   "cell_type": "code",
   "execution_count": 56,
   "metadata": {},
   "outputs": [
    {
     "name": "stdout",
     "output_type": "stream",
     "text": [
      "0.976971588800461\n"
     ]
    }
   ],
   "source": [
    "p = model.predict(data)\n",
    "aucs = []\n",
    "for j in range(6):\n",
    "    auc = roc_auc_score(targets[:,j], p[:,j])\n",
    "    aucs.append(auc)\n",
    "print(np.mean(aucs))"
   ]
  },
  {
   "cell_type": "code",
   "execution_count": null,
   "metadata": {},
   "outputs": [],
   "source": []
  }
 ],
 "metadata": {
  "kernelspec": {
   "display_name": "Python 3",
   "language": "python",
   "name": "python3"
  },
  "language_info": {
   "codemirror_mode": {
    "name": "ipython",
    "version": 3
   },
   "file_extension": ".py",
   "mimetype": "text/x-python",
   "name": "python",
   "nbconvert_exporter": "python",
   "pygments_lexer": "ipython3",
   "version": "3.6.9"
  }
 },
 "nbformat": 4,
 "nbformat_minor": 2
}
